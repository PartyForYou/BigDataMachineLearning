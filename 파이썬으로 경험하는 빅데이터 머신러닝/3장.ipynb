{
 "cells": [
  {
   "cell_type": "markdown",
   "id": "b7496208",
   "metadata": {},
   "source": [
    "# 파이썬 데이터 다루기"
   ]
  },
  {
   "cell_type": "markdown",
   "id": "036ac84f",
   "metadata": {},
   "source": [
    "## 기본 연산"
   ]
  },
  {
   "cell_type": "code",
   "execution_count": 1,
   "id": "51d1bfca",
   "metadata": {},
   "outputs": [
    {
     "name": "stdout",
     "output_type": "stream",
     "text": [
      "579\n",
      "100400\n",
      "18446744073709551616\n",
      "41.040650406504064\n",
      "41\n",
      "3\n"
     ]
    }
   ],
   "source": [
    "# 결과 출력을 위해 Print함수를 사용하겠습니다.\n",
    "# 기본 연산\n",
    "print(123 + 456)\n",
    "print(100 * 1004)\n",
    "\n",
    "# 정수형 상수의 표현 범위는 제한이 없으며, CPU 레지스터로 표현할 수 있는 크기보다 큰 정수를 다룰 때는 연산 속도가 느려집니다.\n",
    "print(2 ** 64)\n",
    "\n",
    "# 정확히 나누어 떨어지지 않는 경우, 파이썬에서는 소수점 15자리까지 표현합니다\n",
    "print(5048 / 123)\n",
    "\n",
    "# 소수점 이하의 수를 모두 버리고 몫만 나타낼 때 '//' 연산자를 사용\n",
    "print(5048 // 123)\n",
    "\n",
    "# 나머지를 구할 때 % 연산자를 사용\n",
    "print(33 % 5)"
   ]
  },
  {
   "cell_type": "markdown",
   "id": "4cc7f052",
   "metadata": {},
   "source": [
    "## 논리 연산"
   ]
  },
  {
   "cell_type": "code",
   "execution_count": 3,
   "id": "9ccc69ae",
   "metadata": {},
   "outputs": [
    {
     "name": "stdout",
     "output_type": "stream",
     "text": [
      "True\n",
      "False\n",
      "False\n",
      "False\n",
      "True\n",
      "True\n",
      "True\n",
      "False\n",
      "False\n"
     ]
    }
   ],
   "source": [
    "#and\n",
    "print(True and True)\n",
    "print(True and False)\n",
    "print(False and True)\n",
    "print(False and False)\n",
    "\n",
    "#or\n",
    "print(True or True)\n",
    "print(True or False)\n",
    "print(False or True)\n",
    "print(False or False)\n",
    "\n",
    "#not\n",
    "print(not True)"
   ]
  },
  {
   "cell_type": "markdown",
   "id": "b7619832",
   "metadata": {},
   "source": [
    "## 비교 연산"
   ]
  },
  {
   "cell_type": "code",
   "execution_count": 4,
   "id": "ce5b0101",
   "metadata": {
    "ExecuteTime": {
     "end_time": "2023-03-28T04:41:45.636969Z",
     "start_time": "2023-03-28T04:41:45.621885Z"
    }
   },
   "outputs": [
    {
     "name": "stdout",
     "output_type": "stream",
     "text": [
      "True\n",
      "True\n",
      "True\n",
      "True\n",
      "False\n",
      "True\n",
      "False\n",
      "True\n",
      "True\n",
      "True\n",
      "True\n"
     ]
    }
   ],
   "source": [
    "#비교 판단\n",
    "print(5 > 2)\n",
    "\n",
    "#숫자 비교\n",
    "print(7 == 7)#7과 7이 같은지 빅교\n",
    "print(7!=5)#7과 5가 다른지 비교\n",
    "\n",
    "#문자 비교\n",
    "print('Python' == 'Python')\n",
    "print('Python' == 'python')\n",
    "print('Python' != 'python')\n",
    "\n",
    "#부등호 비교\n",
    "print(1 > 2) #1이 2보다 큰지 비교\n",
    "print(1 < 2) #1이 2보다 작은지 비교\n",
    "print(1 >= 1) #1이 1보다 크거나 같은지 비교\n",
    "print(1 <= 1) #1이 1보다 작거나 같은지 비교\n",
    "\n",
    "# 객체 비교\n",
    "print(1 == 1.0)\n",
    "# print(1 is 1.0)\n",
    "# print(1 is not 1.0)"
   ]
  },
  {
   "cell_type": "markdown",
   "id": "17a50592",
   "metadata": {},
   "source": [
    "# 변수와 자료형"
   ]
  },
  {
   "cell_type": "markdown",
   "id": "f9b64065",
   "metadata": {},
   "source": [
    "## 변수"
   ]
  },
  {
   "cell_type": "code",
   "execution_count": 2,
   "id": "5c6d6be7",
   "metadata": {
    "ExecuteTime": {
     "end_time": "2023-03-15T13:24:15.582095Z",
     "start_time": "2023-03-15T13:24:15.570113Z"
    }
   },
   "outputs": [
    {
     "name": "stdout",
     "output_type": "stream",
     "text": [
      "155\n",
      "Hello, Python!\n",
      "100\n",
      "200\n",
      "300\n"
     ]
    }
   ],
   "source": [
    "# 변수만들기(할당)\n",
    "x = 155\n",
    "print(x)\n",
    "\n",
    "y='Hello, Python!'\n",
    "print(y)\n",
    "\n",
    "# 여러 변수 만들기(할당)\n",
    "## 변수이름1, 변수이름2, 변수이름3 = 값1, 값2, 값3 형식으로 변수를 ,(콤마)로 구분한 뒤 각 변수에 할당될 값을 지정합니다.\n",
    "## 변수와 값의 개수는 동일하게 하고 나열된 순서대로 값이 할당되며 만약 변수와 값의 개수가 맞지 않으면 에러가 발생합니다.\n",
    "x, y, z = 100, 200, 300\n",
    "print(x)\n",
    "print(y)\n",
    "print(z)\n",
    "\n",
    "#변수 삭제(메모리 할당 해제)\n",
    "#변수 삭제는 del을 사용합니다. 변수 x를 삭제하여 변수가 없어졌으므로 x가 정의되지 않았다는 메시지와 함께 NameError가 발생합니다. 지금은 변수 삭제가 큰 의미가 없지만  나중에 리스트를 사용할 때 del이 유용하게 쓰입니다.\n",
    "x = 100\n",
    "del x\n",
    "# print(x)"
   ]
  },
  {
   "cell_type": "markdown",
   "id": "3ecb441c",
   "metadata": {},
   "source": [
    "## 자료형"
   ]
  },
  {
   "cell_type": "code",
   "execution_count": 3,
   "id": "60c7a517",
   "metadata": {
    "ExecuteTime": {
     "end_time": "2023-03-15T13:27:02.111724Z",
     "start_time": "2023-03-15T13:27:02.097689Z"
    }
   },
   "outputs": [
    {
     "name": "stdout",
     "output_type": "stream",
     "text": [
      "1\n",
      "-10\n",
      "15.2\n",
      "-999999999929.8\n",
      "3.14j\n",
      "(45.3-7j)\n"
     ]
    }
   ],
   "source": [
    "int_var1 = 1\n",
    "print(int_var1)\n",
    "\n",
    "int_var2 = -10\n",
    "print(int_var2)\n",
    "\n",
    "float_var1 = 15.20\n",
    "print(float_var1)\n",
    "\n",
    "float_var2 = 70.2-1E12\n",
    "print(float_var2)\n",
    "\n",
    "complex_var1 = 3.14j\n",
    "print(complex_var1)\n",
    "\n",
    "complex_var2 = 4.53e1-7j\n",
    "print(complex_var2)"
   ]
  },
  {
   "cell_type": "code",
   "execution_count": 4,
   "id": "96727b35",
   "metadata": {
    "ExecuteTime": {
     "end_time": "2023-03-15T13:27:38.226730Z",
     "start_time": "2023-03-15T13:27:38.215689Z"
    }
   },
   "outputs": [
    {
     "name": "stdout",
     "output_type": "stream",
     "text": [
      "Hello World!\n",
      "H\n",
      "llo\n",
      "llo World!\n",
      "Hello World!Hello World!\n",
      "Hello World!TEST\n"
     ]
    }
   ],
   "source": [
    "str = 'Hello World!'\n",
    "print(str)\n",
    "print(str[0])\n",
    "print(str[2:5])\n",
    "print(str[2:])\n",
    "print(str*2)\n",
    "print(str+\"TEST\")"
   ]
  },
  {
   "cell_type": "code",
   "execution_count": 7,
   "id": "3d3e911a",
   "metadata": {
    "ExecuteTime": {
     "end_time": "2023-03-15T13:29:02.698588Z",
     "start_time": "2023-03-15T13:29:02.686557Z"
    }
   },
   "outputs": [
    {
     "name": "stdout",
     "output_type": "stream",
     "text": [
      "['abcd', 785, 2.23, 'john', 70.2]\n",
      "abcd\n",
      "[785, 2.23]\n",
      "[2.23, 'john', 70.2]\n",
      "[123, 'john', 123, 'john']\n",
      "['abcd', 785, 2.23, 'john', 70.2, 123, 'john']\n"
     ]
    }
   ],
   "source": [
    "list=['abcd', 785, 2.23, 'john', 70.2]\n",
    "tinylist = [123, 'john']\n",
    "print(list)\n",
    "print(list[0])\n",
    "print(list[1:3])\n",
    "print(list[2:])\n",
    "print(tinylist*2)\n",
    "print(list+tinylist)"
   ]
  },
  {
   "cell_type": "code",
   "execution_count": 9,
   "id": "85e83415",
   "metadata": {
    "ExecuteTime": {
     "end_time": "2023-03-15T13:30:33.648392Z",
     "start_time": "2023-03-15T13:30:33.640372Z"
    },
    "run_control": {
     "marked": false
    }
   },
   "outputs": [
    {
     "name": "stdout",
     "output_type": "stream",
     "text": [
      "('abcd', 786, 2.23, 'john', 70.2)\n",
      "abcd\n",
      "(786, 2.23)\n",
      "(2.23, 'john', 70.2)\n",
      "(123, 'john', 123, 'john')\n",
      "('abcd', 786, 2.23, 'john', 70.2, 123, 'john')\n"
     ]
    }
   ],
   "source": [
    "# 리스트와 튜플의 차이점은 튜플은 읽기 전용입니다.\n",
    "tuple=('abcd', 786, 2.23, 'john', 70.2)\n",
    "tinytuple = (123, 'john')\n",
    "print(tuple)\n",
    "print(tuple[0])\n",
    "print(tuple[1:3])\n",
    "print(tuple[2:])\n",
    "print(tinytuple*2)\n",
    "print(tuple+tinytuple)"
   ]
  },
  {
   "cell_type": "code",
   "execution_count": 11,
   "id": "9e129809",
   "metadata": {
    "ExecuteTime": {
     "end_time": "2023-03-15T13:32:17.183385Z",
     "start_time": "2023-03-15T13:32:17.167341Z"
    }
   },
   "outputs": [
    {
     "name": "stdout",
     "output_type": "stream",
     "text": [
      "This is One\n",
      "This is two\n",
      "{'name': 'john', 'code': 6734, 'dept': 'sales'}\n",
      "dict_keys(['name', 'code', 'dept'])\n",
      "dict_values(['john', 6734, 'sales'])\n"
     ]
    }
   ],
   "source": [
    "dict = {}\n",
    "dict['one'] = \"This is One\"\n",
    "dict[2] = \"This is two\"\n",
    "tinydict = {'name': 'john', 'code': 6734, 'dept': 'sales'}\n",
    "print(dict['one'])\n",
    "print(dict[2])\n",
    "print(tinydict)\n",
    "print(tinydict.keys())\n",
    "print(tinydict.values())"
   ]
  },
  {
   "cell_type": "markdown",
   "id": "a70a1956",
   "metadata": {},
   "source": [
    "# 함수와 모듈"
   ]
  },
  {
   "cell_type": "markdown",
   "id": "37c34071",
   "metadata": {},
   "source": [
    "## 함수"
   ]
  },
  {
   "cell_type": "code",
   "execution_count": 12,
   "id": "cd811f99",
   "metadata": {
    "ExecuteTime": {
     "end_time": "2023-03-15T13:33:37.635358Z",
     "start_time": "2023-03-15T13:33:37.620430Z"
    }
   },
   "outputs": [
    {
     "name": "stdout",
     "output_type": "stream",
     "text": [
      "7\n"
     ]
    }
   ],
   "source": [
    "# 함수 이름은  add이고 입력으로 2개의 값을 받으며 결과는 2개의 입력을 더한 값입니다.\n",
    "def add(a, b):\n",
    "    return a+b\n",
    "a=3\n",
    "b=4\n",
    "c=add(a,b)\n",
    "print(c)"
   ]
  },
  {
   "cell_type": "markdown",
   "id": "8bb0e95b",
   "metadata": {},
   "source": [
    "## 모듈"
   ]
  },
  {
   "cell_type": "markdown",
   "id": "2e2bfb7d",
   "metadata": {},
   "source": [
    "- import 모듈 이름\n",
    "- 또는\n",
    "- import 모듈 이름 as 모듈 별명\n",
    "\n",
    "- #다음과 같이 from을 사용하면 모듈 이름을 붙이지 않고 바로 해당 모듈의 함수를 쓸 수 있습니다.\n",
    "- from 모듈이름 import 모듈함수"
   ]
  },
  {
   "cell_type": "code",
   "execution_count": 21,
   "id": "da4fe16d",
   "metadata": {
    "ExecuteTime": {
     "end_time": "2023-03-15T13:58:28.101107Z",
     "start_time": "2023-03-15T13:58:28.085065Z"
    }
   },
   "outputs": [
    {
     "name": "stdout",
     "output_type": "stream",
     "text": [
      "7\n",
      "2\n"
     ]
    },
    {
     "data": {
      "text/plain": [
       "7"
      ]
     },
     "execution_count": 21,
     "metadata": {},
     "output_type": "execute_result"
    }
   ],
   "source": [
    "# 주피터 노트북 mo1.py 모듈 만들기\n",
    "def add(a, b):\n",
    "    return a+b\n",
    "def sub(a, b):\n",
    "    return a-b\n",
    "\n",
    "# 모듈 불러오기\n",
    "import mo1\n",
    "print(mo1.add(3, 4))\n",
    "print(mo1.sub(4,2))\n",
    "from mo1 import add\n",
    "add(3, 4)"
   ]
  }
 ],
 "metadata": {
  "kernelspec": {
   "display_name": "Python 3 (ipykernel)",
   "language": "python",
   "name": "python3"
  },
  "language_info": {
   "codemirror_mode": {
    "name": "ipython",
    "version": 3
   },
   "file_extension": ".py",
   "mimetype": "text/x-python",
   "name": "python",
   "nbconvert_exporter": "python",
   "pygments_lexer": "ipython3",
   "version": "3.9.13"
  },
  "toc": {
   "base_numbering": 1,
   "nav_menu": {},
   "number_sections": true,
   "sideBar": true,
   "skip_h1_title": false,
   "title_cell": "Table of Contents",
   "title_sidebar": "Contents",
   "toc_cell": false,
   "toc_position": {
    "height": "calc(100% - 180px)",
    "left": "10px",
    "top": "150px",
    "width": "295.837px"
   },
   "toc_section_display": true,
   "toc_window_display": true
  },
  "varInspector": {
   "cols": {
    "lenName": 16,
    "lenType": 16,
    "lenVar": 40
   },
   "kernels_config": {
    "python": {
     "delete_cmd_postfix": "",
     "delete_cmd_prefix": "del ",
     "library": "var_list.py",
     "varRefreshCmd": "print(var_dic_list())"
    },
    "r": {
     "delete_cmd_postfix": ") ",
     "delete_cmd_prefix": "rm(",
     "library": "var_list.r",
     "varRefreshCmd": "cat(var_dic_list()) "
    }
   },
   "types_to_exclude": [
    "module",
    "function",
    "builtin_function_or_method",
    "instance",
    "_Feature"
   ],
   "window_display": false
  }
 },
 "nbformat": 4,
 "nbformat_minor": 5
}
